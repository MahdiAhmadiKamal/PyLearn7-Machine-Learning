{
 "cells": [
  {
   "cell_type": "markdown",
   "metadata": {},
   "source": [
    "![my picture](https://www.fatalerrors.org/images/blog/c6b544ae87e97d71cb450e434a8818a6.jpg)\n",
    "\n",
    "- apple width ≈ 7 cm\n",
    "- apple length ≈ 7 cm\n",
    "- banana width ≈ 5 cm\n",
    "- banana length ≈ 18 cm\n",
    "- watermelon width ≈ 25 cm\n",
    "- watermelon length ≈ 40 cm\n",
    "\n",
    "apple: 0\n",
    "\n",
    "banana: 1\n",
    "\n",
    "watermelon: 2"
   ]
  },
  {
   "cell_type": "code",
   "execution_count": 88,
   "metadata": {},
   "outputs": [],
   "source": [
    "import numpy as np\n",
    "import matplotlib.pyplot as plt"
   ]
  },
  {
   "cell_type": "code",
   "execution_count": 89,
   "metadata": {},
   "outputs": [],
   "source": [
    "n = 100\n",
    "apple_width = np.random.normal(7, 1, n)\n",
    "apple_length = np.random.normal(7, 1, n)\n",
    "banana_width = np.random.normal(5, 1, n)\n",
    "banana_length = np.random.normal(17, 2, n)\n",
    "watermelon_width = np.random.normal(25, 5, n)\n",
    "watermelon_length = np.random.normal(40, 5, n)"
   ]
  },
  {
   "cell_type": "code",
   "execution_count": 90,
   "metadata": {},
   "outputs": [
    {
     "data": {
      "image/png": "[encoded data removed]",
      "text/plain": [
       "<Figure size 640x480 with 1 Axes>"
      ]
     },
     "metadata": {},
     "output_type": "display_data"
    }
   ],
   "source": [
    "plt.scatter(apple_length, apple_width, c='red', marker='.')\n",
    "plt.scatter(banana_length, banana_width, c='blue', marker='.')\n",
    "plt.scatter(watermelon_length, watermelon_width, c='green', marker='.')\n",
    "plt.title('apple, banana and watermelon')\n",
    "plt.xlabel('length')\n",
    "plt.ylabel('width')\n",
    "plt.show()"
   ]
  },
  {
   "cell_type": "code",
   "execution_count": 91,
   "metadata": {},
   "outputs": [],
   "source": [
    "# kNN: k-Nearest Neighbors"
   ]
  },
  {
   "cell_type": "code",
   "execution_count": 92,
   "metadata": {},
   "outputs": [
    {
     "data": {
      "text/plain": [
       "array([[ 7.46594206,  5.11828551],\n",
       "       [ 5.14889125,  6.79058794],\n",
       "       [ 7.40821326,  8.45930711],\n",
       "       [ 7.97404496,  5.82853379],\n",
       "       [ 7.24126588,  7.7924846 ],\n",
       "       [ 6.80059239,  7.04063661],\n",
       "       [ 6.88347622,  5.99504792],\n",
       "       [ 5.2679961 ,  8.11098201],\n",
       "       [ 6.63326266,  8.25437733],\n",
       "       [ 6.72859183,  6.54337722],\n",
       "       [ 6.42862742,  6.90516573],\n",
       "       [ 7.96274432,  6.87890288],\n",
       "       [ 6.49400227,  7.19189444],\n",
       "       [ 7.47398903,  7.36953488],\n",
       "       [ 5.40858634,  6.75989744],\n",
       "       [ 7.72663803,  8.24897907],\n",
       "       [ 8.59715804,  6.20662242],\n",
       "       [ 7.8168468 ,  6.52754322],\n",
       "       [ 9.11337647,  9.68007925],\n",
       "       [ 7.18493939,  7.73988088],\n",
       "       [ 8.19965809,  7.29274236],\n",
       "       [ 6.48216836,  6.99761487],\n",
       "       [ 7.25480751,  5.37934248],\n",
       "       [ 6.7464673 ,  8.16456728],\n",
       "       [ 6.76195724,  6.21405348],\n",
       "       [ 7.63933539,  6.78093205],\n",
       "       [ 5.65197915,  6.97851831],\n",
       "       [ 5.71774166,  7.08349583],\n",
       "       [ 6.96659943,  7.96068905],\n",
       "       [ 6.23601677,  6.39102648],\n",
       "       [ 8.79505632,  5.86883306],\n",
       "       [ 6.72918482,  9.4863292 ],\n",
       "       [ 6.92191632,  7.23441082],\n",
       "       [ 7.49452598,  7.89455848],\n",
       "       [ 5.76941254,  7.31701309],\n",
       "       [ 8.013676  ,  6.14505466],\n",
       "       [ 6.85639234,  7.06271029],\n",
       "       [ 5.65401447,  6.72419995],\n",
       "       [ 5.69523665,  6.26920882],\n",
       "       [ 7.26001683,  6.78644467],\n",
       "       [ 5.76397074,  6.78212769],\n",
       "       [ 6.30252556,  5.03129451],\n",
       "       [ 5.0942869 ,  8.09168124],\n",
       "       [ 6.63394059,  5.48012282],\n",
       "       [ 7.54065367,  6.28680715],\n",
       "       [ 8.52366201,  6.39158219],\n",
       "       [ 7.28607578,  5.86144864],\n",
       "       [ 6.0088897 ,  6.38535593],\n",
       "       [ 5.74112758,  6.84455988],\n",
       "       [ 6.86297167,  6.18442234],\n",
       "       [ 7.81211466,  6.88478131],\n",
       "       [ 7.80427176,  4.64053076],\n",
       "       [ 7.94057529,  4.98254375],\n",
       "       [ 7.8047491 ,  6.01438068],\n",
       "       [ 8.15721187,  8.78331501],\n",
       "       [ 7.35604113,  6.31407039],\n",
       "       [ 9.14625934,  5.96063982],\n",
       "       [ 5.83936279,  6.81103035],\n",
       "       [ 7.61679769,  6.89759392],\n",
       "       [ 7.34088918,  7.50381533],\n",
       "       [ 8.03050807,  5.56907726],\n",
       "       [ 7.08127688,  6.73371386],\n",
       "       [ 9.70111122,  6.34924193],\n",
       "       [ 7.72980345,  7.37188275],\n",
       "       [ 6.45062218,  8.82594059],\n",
       "       [ 6.0806796 ,  6.55517404],\n",
       "       [ 7.87426919,  6.05017949],\n",
       "       [ 6.22090759,  7.71330554],\n",
       "       [ 6.13239406,  7.77791124],\n",
       "       [ 6.81468194,  6.55018535],\n",
       "       [ 7.54897898,  7.43330803],\n",
       "       [ 7.61619635,  7.54996638],\n",
       "       [ 7.00741194,  5.16262706],\n",
       "       [ 6.21927825,  8.27469008],\n",
       "       [ 7.03450184,  7.91945704],\n",
       "       [ 6.17894017,  7.41082666],\n",
       "       [ 7.7392471 ,  4.06029981],\n",
       "       [ 6.96518495,  8.33546461],\n",
       "       [ 6.71780736,  7.81222345],\n",
       "       [ 7.45628497,  6.47411203],\n",
       "       [ 7.66464993,  6.13474541],\n",
       "       [ 6.18835357,  6.48643469],\n",
       "       [ 6.38634782,  6.63584436],\n",
       "       [ 8.54084981,  7.35014935],\n",
       "       [ 7.78543693,  7.94901356],\n",
       "       [ 5.85890734,  6.17813172],\n",
       "       [ 7.06382784,  6.91130037],\n",
       "       [ 6.62269172,  5.48805549],\n",
       "       [ 6.78982575,  7.39627838],\n",
       "       [ 6.87978502,  7.52542055],\n",
       "       [ 5.83836816,  6.32644032],\n",
       "       [ 7.93419341,  7.66001769],\n",
       "       [ 7.99971802,  8.01059971],\n",
       "       [ 6.87315267,  4.9417705 ],\n",
       "       [ 5.99399139,  7.682022  ],\n",
       "       [ 6.38932861,  7.08384722],\n",
       "       [ 8.45876025,  6.31202719],\n",
       "       [ 7.13386243,  5.95426692],\n",
       "       [ 5.41162884,  6.17335953],\n",
       "       [ 7.36821518,  6.44655381],\n",
       "       [16.34957317,  6.69087074],\n",
       "       [14.79226054,  5.61940015],\n",
       "       [20.59873674,  6.42379318],\n",
       "       [17.89523347,  4.24743154],\n",
       "       [16.62014515,  3.61928387],\n",
       "       [19.47999052,  4.44535557],\n",
       "       [16.37756848,  5.64766742],\n",
       "       [13.52969942,  5.82573422],\n",
       "       [15.43689241,  4.64965662],\n",
       "       [19.42734776,  5.7320821 ],\n",
       "       [15.35145567,  5.184391  ],\n",
       "       [15.24584577,  4.20007072],\n",
       "       [19.4458323 ,  5.65929684],\n",
       "       [18.49747488,  5.70627174],\n",
       "       [17.51819606,  4.05516962],\n",
       "       [16.92030815,  3.42255874],\n",
       "       [13.28103928,  5.25178352],\n",
       "       [15.68486414,  6.1350738 ],\n",
       "       [18.27633846,  5.56055977],\n",
       "       [15.04364966,  5.31577596],\n",
       "       [19.76288322,  4.35289292],\n",
       "       [15.82709609,  5.02287668],\n",
       "       [17.54797293,  4.8588609 ],\n",
       "       [16.92601854,  5.02729864],\n",
       "       [14.71599051,  5.77993459],\n",
       "       [17.25439686,  2.48120602],\n",
       "       [15.6274293 ,  4.20446098],\n",
       "       [16.02460098,  4.58931163],\n",
       "       [19.16820365,  4.81303024],\n",
       "       [14.83656121,  4.19653509],\n",
       "       [14.12766967,  4.9362197 ],\n",
       "       [19.27754595,  6.14249742],\n",
       "       [19.82614025,  4.79720325],\n",
       "       [16.20990934,  3.53978322],\n",
       "       [15.84509888,  4.81888957],\n",
       "       [15.43669316,  5.42719624],\n",
       "       [16.27704015,  5.40014302],\n",
       "       [18.10104913,  6.42641646],\n",
       "       [17.56928015,  4.07255537],\n",
       "       [17.99063616,  6.25460067],\n",
       "       [13.14882367,  5.18299711],\n",
       "       [17.45176754,  6.25533858],\n",
       "       [18.67754461,  3.97965077],\n",
       "       [15.33735855,  5.15513659],\n",
       "       [15.12091205,  4.37699058],\n",
       "       [17.36257809,  4.70189775],\n",
       "       [14.04039026,  4.00261158],\n",
       "       [14.54080079,  3.65704425],\n",
       "       [17.74761813,  6.24554474],\n",
       "       [17.21962118,  6.9806163 ],\n",
       "       [16.70796924,  4.80528944],\n",
       "       [17.73836909,  4.65040778],\n",
       "       [16.48087629,  5.75460772],\n",
       "       [20.177452  ,  6.51570376],\n",
       "       [19.27234689,  4.85338726],\n",
       "       [15.74946952,  5.11054574],\n",
       "       [16.20997235,  4.78597942],\n",
       "       [16.96815259,  4.62040891],\n",
       "       [18.76100379,  7.77545433],\n",
       "       [16.98515989,  5.27753371],\n",
       "       [17.02870628,  5.43642426],\n",
       "       [16.37274385,  3.85884516],\n",
       "       [19.53573154,  2.06428796],\n",
       "       [19.58707269,  4.9887413 ],\n",
       "       [17.81228305,  5.93052091],\n",
       "       [15.40159731,  4.9834053 ],\n",
       "       [13.16239599,  5.9609657 ],\n",
       "       [14.71153295,  4.32881409],\n",
       "       [16.96622362,  5.61528863],\n",
       "       [18.68761814,  3.29026227],\n",
       "       [11.1477618 ,  5.25833543],\n",
       "       [17.0782885 ,  4.98580253],\n",
       "       [17.54296846,  4.19651848],\n",
       "       [15.69323401,  5.28436229],\n",
       "       [12.54087407,  5.64531107],\n",
       "       [20.8632558 ,  4.75158895],\n",
       "       [16.03079362,  4.31766243],\n",
       "       [18.61757395,  5.72995171],\n",
       "       [18.76274832,  5.29393074],\n",
       "       [14.50837019,  2.46477514],\n",
       "       [15.72739021,  3.63733148],\n",
       "       [13.75734615,  5.23707346],\n",
       "       [15.87805341,  4.15418407],\n",
       "       [19.48958815,  4.78788635],\n",
       "       [14.38699251,  6.44449787],\n",
       "       [18.41719334,  3.53032214],\n",
       "       [17.15427711,  4.04154685],\n",
       "       [17.48411703,  3.54377725],\n",
       "       [16.34747852,  4.88286603],\n",
       "       [19.03771152,  5.89358245],\n",
       "       [15.23269129,  3.21652904],\n",
       "       [16.74426294,  5.3019142 ],\n",
       "       [15.76266218,  5.34231114],\n",
       "       [17.32342435,  4.68530551],\n",
       "       [16.45477101,  6.99126469],\n",
       "       [15.40137034,  4.24352175],\n",
       "       [17.59871292,  5.14270636],\n",
       "       [18.70943746,  5.08456007],\n",
       "       [16.66875472,  5.34548556],\n",
       "       [17.05665671,  5.58458919],\n",
       "       [37.09874869, 19.97397001],\n",
       "       [41.82654852, 22.13500004],\n",
       "       [32.61355542, 35.08639769],\n",
       "       [39.16889484, 19.68618509],\n",
       "       [40.46429111, 25.3791835 ],\n",
       "       [35.74667303, 30.78198162],\n",
       "       [42.83232636, 19.41860773],\n",
       "       [37.07497776, 28.67021795],\n",
       "       [41.85434993, 26.1604885 ],\n",
       "       [37.71269123, 19.11722646],\n",
       "       [32.76158958, 25.27679604],\n",
       "       [46.78557104, 29.30786501],\n",
       "       [39.70434839, 24.95670805],\n",
       "       [34.45978017, 23.20668031],\n",
       "       [37.09519669, 28.80406321],\n",
       "       [35.52197828, 30.12385554],\n",
       "       [47.52139322, 25.84189427],\n",
       "       [49.07485914, 21.00533639],\n",
       "       [31.93560583, 37.23622141],\n",
       "       [35.82388381, 35.97361776],\n",
       "       [36.20873862, 26.66121481],\n",
       "       [32.50602985, 30.10647936],\n",
       "       [41.03148291, 31.87017911],\n",
       "       [31.94371003, 28.82029272],\n",
       "       [36.5670877 , 25.9269009 ],\n",
       "       [42.81857422, 19.04586034],\n",
       "       [46.95049449, 28.74487185],\n",
       "       [40.84220783, 30.65221243],\n",
       "       [44.36101718, 17.86968455],\n",
       "       [39.83091063, 28.46662151],\n",
       "       [32.2812819 , 16.38898457],\n",
       "       [38.65542275, 25.99580107],\n",
       "       [44.64600081, 25.57961391],\n",
       "       [35.97744473, 35.3480552 ],\n",
       "       [35.51621564, 25.34792361],\n",
       "       [43.22226892, 27.44497105],\n",
       "       [37.97839293,  7.83667443],\n",
       "       [47.64842149, 33.21031   ],\n",
       "       [43.77766747, 25.71053141],\n",
       "       [45.12447833, 25.23095298],\n",
       "       [38.22831265, 22.11132926],\n",
       "       [40.03253069, 30.8072815 ],\n",
       "       [43.3873976 , 21.34456913],\n",
       "       [41.72245827, 31.79864043],\n",
       "       [40.7025044 , 15.50988026],\n",
       "       [42.43214252, 27.91136484],\n",
       "       [49.93473159, 25.70890927],\n",
       "       [43.14714756, 27.97643067],\n",
       "       [39.89508301, 18.26410122],\n",
       "       [47.41821525, 23.50496695],\n",
       "       [39.33700503, 21.87497768],\n",
       "       [38.0316043 , 19.52085802],\n",
       "       [41.41406692, 26.19857019],\n",
       "       [43.30986846, 27.2755394 ],\n",
       "       [45.19515705, 28.59924675],\n",
       "       [44.91273064, 24.06336869],\n",
       "       [36.58693334, 31.07067886],\n",
       "       [43.55769617, 28.81680452],\n",
       "       [36.88300188, 29.16295452],\n",
       "       [42.58866637, 30.5754851 ],\n",
       "       [39.25680234, 25.55553512],\n",
       "       [38.23603754, 24.72003277],\n",
       "       [33.09221621, 23.76977347],\n",
       "       [37.61374606, 33.80550532],\n",
       "       [38.40479893, 27.26952034],\n",
       "       [32.59392874, 33.96005864],\n",
       "       [33.25084229, 22.50107341],\n",
       "       [35.61879707, 26.3550645 ],\n",
       "       [36.39230586, 20.51023123],\n",
       "       [45.43558275, 19.44195255],\n",
       "       [32.13455492, 27.29054462],\n",
       "       [32.58080086, 20.54763002],\n",
       "       [43.06071214, 21.79574207],\n",
       "       [36.35438359, 18.31180634],\n",
       "       [44.39854152, 20.70617841],\n",
       "       [46.07760291, 25.82487561],\n",
       "       [42.88610835, 27.51585478],\n",
       "       [42.14305383, 24.80982331],\n",
       "       [41.51079469, 20.87646627],\n",
       "       [35.59141142, 29.58626468],\n",
       "       [37.57092424, 26.11509177],\n",
       "       [40.38438714, 32.0575781 ],\n",
       "       [39.82263281, 20.86711774],\n",
       "       [46.30037774, 22.43635829],\n",
       "       [33.32384838, 22.96936911],\n",
       "       [36.19454145, 20.25406955],\n",
       "       [25.86828493, 25.98362122],\n",
       "       [37.66414995, 33.16077795],\n",
       "       [40.88101559, 21.16868166],\n",
       "       [37.77331143, 23.5904779 ],\n",
       "       [33.45644381, 23.34676473],\n",
       "       [41.86391851, 10.17276773],\n",
       "       [38.21064769, 27.82975594],\n",
       "       [33.53773782, 23.26777874],\n",
       "       [44.92082847, 24.63210273],\n",
       "       [50.24903586, 16.53433507],\n",
       "       [35.87951254, 25.92154609],\n",
       "       [39.30263891, 26.79471615],\n",
       "       [40.21896162, 33.03507228],\n",
       "       [35.36255718, 23.95750418]])"
      ]
     },
     "execution_count": 92,
     "metadata": {},
     "output_type": "execute_result"
    }
   ],
   "source": [
    "width = np.concatenate((apple_width, banana_width, watermelon_width))\n",
    "length = np.concatenate((apple_length, banana_length, watermelon_length))\n",
    "\n",
    "X_train = np.array([length, width]).T\n",
    "X_train"
   ]
  },
  {
   "cell_type": "code",
   "execution_count": 93,
   "metadata": {},
   "outputs": [],
   "source": [
    "Y_apples = np.zeros(n, dtype=int) \n",
    "# Y_apples"
   ]
  },
  {
   "cell_type": "code",
   "execution_count": 94,
   "metadata": {},
   "outputs": [],
   "source": [
    "Y_bananas = np.ones(n, dtype=int) \n",
    "# Y_bananas"
   ]
  },
  {
   "cell_type": "code",
   "execution_count": 95,
   "metadata": {},
   "outputs": [],
   "source": [
    "Y_watermelons = np.ones(n, dtype=int) * 2\n",
    "# Y_watermelons"
   ]
  },
  {
   "cell_type": "code",
   "execution_count": 96,
   "metadata": {},
   "outputs": [
    {
     "data": {
      "text/plain": [
       "array([0, 0, 0, 0, 0, 0, 0, 0, 0, 0, 0, 0, 0, 0, 0, 0, 0, 0, 0, 0, 0, 0,\n",
       "       0, 0, 0, 0, 0, 0, 0, 0, 0, 0, 0, 0, 0, 0, 0, 0, 0, 0, 0, 0, 0, 0,\n",
       "       0, 0, 0, 0, 0, 0, 0, 0, 0, 0, 0, 0, 0, 0, 0, 0, 0, 0, 0, 0, 0, 0,\n",
       "       0, 0, 0, 0, 0, 0, 0, 0, 0, 0, 0, 0, 0, 0, 0, 0, 0, 0, 0, 0, 0, 0,\n",
       "       0, 0, 0, 0, 0, 0, 0, 0, 0, 0, 0, 0, 1, 1, 1, 1, 1, 1, 1, 1, 1, 1,\n",
       "       1, 1, 1, 1, 1, 1, 1, 1, 1, 1, 1, 1, 1, 1, 1, 1, 1, 1, 1, 1, 1, 1,\n",
       "       1, 1, 1, 1, 1, 1, 1, 1, 1, 1, 1, 1, 1, 1, 1, 1, 1, 1, 1, 1, 1, 1,\n",
       "       1, 1, 1, 1, 1, 1, 1, 1, 1, 1, 1, 1, 1, 1, 1, 1, 1, 1, 1, 1, 1, 1,\n",
       "       1, 1, 1, 1, 1, 1, 1, 1, 1, 1, 1, 1, 1, 1, 1, 1, 1, 1, 1, 1, 1, 1,\n",
       "       1, 1, 2, 2, 2, 2, 2, 2, 2, 2, 2, 2, 2, 2, 2, 2, 2, 2, 2, 2, 2, 2,\n",
       "       2, 2, 2, 2, 2, 2, 2, 2, 2, 2, 2, 2, 2, 2, 2, 2, 2, 2, 2, 2, 2, 2,\n",
       "       2, 2, 2, 2, 2, 2, 2, 2, 2, 2, 2, 2, 2, 2, 2, 2, 2, 2, 2, 2, 2, 2,\n",
       "       2, 2, 2, 2, 2, 2, 2, 2, 2, 2, 2, 2, 2, 2, 2, 2, 2, 2, 2, 2, 2, 2,\n",
       "       2, 2, 2, 2, 2, 2, 2, 2, 2, 2, 2, 2, 2, 2])"
      ]
     },
     "execution_count": 96,
     "metadata": {},
     "output_type": "execute_result"
    }
   ],
   "source": [
    "Y_train = np.concatenate((Y_apples, Y_bananas, Y_watermelons))\n",
    "Y_train"
   ]
  },
  {
   "cell_type": "code",
   "execution_count": 97,
   "metadata": {},
   "outputs": [],
   "source": [
    "def euclidean_distance(x1, x2):\n",
    "    return np.sqrt(np.sum((x1 - x2) ** 2))"
   ]
  },
  {
   "cell_type": "code",
   "execution_count": 98,
   "metadata": {},
   "outputs": [
    {
     "data": {
      "text/plain": [
       "6.708203932499369"
      ]
     },
     "execution_count": 98,
     "metadata": {},
     "output_type": "execute_result"
    }
   ],
   "source": [
    "# Example for def euclidean_distance(x1, x2):\n",
    "point1 = np.array([4, 5])\n",
    "point2 = np.array([10, 2])\n",
    "\n",
    "euclidean_distance(point1, point2)"
   ]
  },
  {
   "cell_type": "code",
   "execution_count": 99,
   "metadata": {},
   "outputs": [],
   "source": [
    "new_fruit = np.array([25, 20])\n",
    "\n",
    "distances = []\n",
    "for x in X_train:\n",
    "    d = euclidean_distance(new_fruit, x)\n",
    "    distances.append(d)\n",
    "\n",
    "# distances"
   ]
  },
  {
   "cell_type": "code",
   "execution_count": 100,
   "metadata": {},
   "outputs": [
    {
     "data": {
      "image/png": "[encoded data removed]",
      "text/plain": [
       "<Figure size 640x480 with 1 Axes>"
      ]
     },
     "metadata": {},
     "output_type": "display_data"
    }
   ],
   "source": [
    "plt.scatter(apple_length, apple_width, c='red', marker='.')\n",
    "plt.scatter(banana_length, banana_width, c='blue', marker='.')\n",
    "plt.scatter(watermelon_length, watermelon_width, c='green', marker='.')\n",
    "plt.scatter(new_fruit[0], new_fruit[1], c='black', marker='o')\n",
    "plt.title('apple, banana and watermelon')\n",
    "plt.xlabel('length')\n",
    "plt.ylabel('width')\n",
    "plt.show()"
   ]
  },
  {
   "cell_type": "code",
   "execution_count": 101,
   "metadata": {},
   "outputs": [],
   "source": [
    "k = 5"
   ]
  },
  {
   "cell_type": "code",
   "execution_count": 102,
   "metadata": {},
   "outputs": [
    {
     "data": {
      "text/plain": [
       "array([ 6.04629156,  7.60055526,  8.12751491,  8.62158725,  8.83762438,\n",
       "        8.9272143 ,  9.09462897,  9.14173643,  9.38545946,  9.98850537,\n",
       "       10.20068207, 11.09253941, 11.19742424, 11.22553663, 11.40372609,\n",
       "       11.47919965, 11.79792687, 12.09877669, 12.37520489, 12.3866259 ,\n",
       "       12.58893996, 12.74330441, 12.99714092, 13.03869641, 13.04040979,\n",
       "       13.26834641, 13.39574436, 13.72459801, 13.9793592 , 14.05245171,\n",
       "       14.17236963, 14.27180822, 14.28546347, 14.32072673, 14.45908899,\n",
       "       14.60152314, 14.84797416, 14.86532096, 14.91375878, 14.96012406,\n",
       "       14.99256009, 14.99589418, 15.00551463, 15.16702497, 15.22307817,\n",
       "       15.2262173 , 15.24908391, 15.30099289, 15.31469556, 15.31756946,\n",
       "       15.35663669, 15.37870431, 15.42942592, 15.51730699, 15.54934346,\n",
       "       15.56432243, 15.63232678, 15.68092889, 15.70329585, 15.7991619 ,\n",
       "       15.79957886, 15.83457127, 15.87333632, 15.89185297, 15.92395908,\n",
       "       15.92812163, 15.9573704 , 15.97409721, 16.02550949, 16.05907387,\n",
       "       16.17940173, 16.18769673, 16.19339024, 16.26818672, 16.33186517,\n",
       "       16.37314614, 16.45906351, 16.47608825, 16.5002834 , 16.50507401,\n",
       "       16.53404169, 16.5983936 , 16.59874166, 16.60238723, 16.70353061,\n",
       "       16.74323075, 16.76271684, 16.85717774, 16.85796312, 16.87562742,\n",
       "       16.89868697, 16.96145514, 16.97585458, 16.98061438, 17.00722941,\n",
       "       17.01090717, 17.07745854, 17.0986007 , 17.1309568 , 17.21591026,\n",
       "       17.22280557, 17.28065741, 17.31002608, 17.32559531, 17.35057332,\n",
       "       17.41165949, 17.41820505, 17.43053204, 17.47447704, 17.52906622,\n",
       "       17.54547991, 17.54910572, 17.56292656, 17.57074296, 17.57552531,\n",
       "       17.61292156, 17.63518067, 17.68040378, 17.71261159, 17.7278969 ,\n",
       "       17.73650564, 17.74134572, 17.78278928, 17.78721935, 17.80501881,\n",
       "       17.82210568, 17.83387517, 17.84180148, 17.84410181, 17.86229268,\n",
       "       17.94493606, 18.06605587, 18.08552097, 18.09131736, 18.14976618,\n",
       "       18.23396846, 18.26435792, 18.28386699, 18.30208808, 18.36364214,\n",
       "       18.36693046, 18.39972359, 18.43649252, 18.44160999, 18.44994033,\n",
       "       18.48444757, 18.51416518, 18.55643461, 18.56828721, 18.57754138,\n",
       "       18.57928839, 18.66023661, 18.70022906, 18.7466963 , 18.74961323,\n",
       "       18.78949151, 18.80739783, 18.83730155, 18.8697401 , 18.94427542,\n",
       "       18.97350666, 19.00754885, 19.09044731, 19.14338754, 19.15469944,\n",
       "       19.29541202, 19.39147962, 19.40105525, 19.40327423, 19.41139101,\n",
       "       19.41868217, 19.47786513, 19.51835653, 19.54647174, 19.62679201,\n",
       "       19.68447811, 19.70240485, 19.82277505, 19.94767146, 20.03821105,\n",
       "       20.2287216 , 20.23594659, 20.32308556, 20.42296353, 20.43424594,\n",
       "       20.4432008 , 20.45228062, 20.46578918, 20.50363855, 20.52320807,\n",
       "       20.54565962, 20.75866919, 20.79320796, 20.80277161, 20.89151805,\n",
       "       21.0135065 , 21.0394523 , 21.05984136, 21.06480204, 21.07984727,\n",
       "       21.17651357, 21.28340516, 21.36957531, 21.38223483, 21.39460292,\n",
       "       21.43153026, 21.4392615 , 21.47028672, 21.47826668, 21.50093204,\n",
       "       21.50421518, 21.50488041, 21.54985081, 21.60300233, 21.62018418,\n",
       "       21.62607004, 21.63328052, 21.64944901, 21.65499991, 21.68290904,\n",
       "       21.75474486, 21.76806761, 21.80130025, 21.8205507 , 21.8350142 ,\n",
       "       21.86765923, 21.92018963, 21.94974744, 21.97226581, 21.99903006,\n",
       "       22.08819023, 22.12024067, 22.1309145 , 22.14042462, 22.14642736,\n",
       "       22.15205633, 22.15246222, 22.1647062 , 22.19819017, 22.20091062,\n",
       "       22.20406111, 22.23905887, 22.27588803, 22.28371522, 22.29517854,\n",
       "       22.32966533, 22.34196807, 22.44141646, 22.48034714, 22.50598854,\n",
       "       22.61864954, 22.62680065, 22.64331201, 22.64864114, 22.65356688,\n",
       "       22.66454822, 22.6905524 , 22.69196009, 22.7237885 , 22.72622911,\n",
       "       22.72769156, 22.79960488, 22.86216361, 22.89862696, 22.91437766,\n",
       "       22.99250927, 22.99801326, 23.03635499, 23.03694265, 23.05659049,\n",
       "       23.16235067, 23.17954328, 23.19580716, 23.20865284, 23.20999849,\n",
       "       23.26110356, 23.26673336, 23.32125341, 23.32176872, 23.32315956,\n",
       "       23.33960089, 23.36708805, 23.41236792, 23.41627624, 23.46303525,\n",
       "       23.49484268, 23.54005882, 23.56550169, 23.60985961, 23.62830913,\n",
       "       23.64579889, 23.6898399 , 23.6906618 , 23.84439316, 23.95115226,\n",
       "       23.97666098, 24.0958408 , 25.48577339, 25.57992346, 26.2195211 ])"
      ]
     },
     "execution_count": 102,
     "metadata": {},
     "output_type": "execute_result"
    }
   ],
   "source": [
    "np.sort(distances)"
   ]
  },
  {
   "cell_type": "code",
   "execution_count": 103,
   "metadata": {},
   "outputs": [
    {
     "data": {
      "text/plain": [
       "array([286, 271, 230, 266, 284, 262, 290, 293, 210, 213, 270, 299, 285,\n",
       "       223, 268, 273, 234, 200, 267, 296, 221, 209, 224, 220, 251, 289,\n",
       "       240, 158, 280, 261, 203, 102, 279, 153, 250, 215, 282, 207, 231,\n",
       "       214, 131, 248, 258, 149, 205, 137, 264, 260, 189, 109, 292, 112,\n",
       "       139, 212, 148, 194, 177, 141, 113, 164, 175, 297, 100, 265, 288,\n",
       "       118, 163, 178, 256, 132, 183, 197, 154, 128, 244, 204, 199, 168,\n",
       "       120, 105, 278, 152, 196, 160, 117, 106, 159, 198, 191, 122, 202,\n",
       "       201, 171, 151, 136, 123, 229, 145, 193, 184, 142, 103, 150, 192,\n",
       "       157, 173, 188, 135, 172, 155, 252, 124, 121, 156, 138, 114, 101,\n",
       "       110, 143, 134, 185, 119, 186, 236, 277, 165, 127, 206, 225, 169,\n",
       "       208, 176, 108, 187, 272, 107, 287, 182, 161, 166, 126, 104, 242,\n",
       "       115, 195, 144, 241, 181, 111, 130, 218, 133, 263, 167, 162, 129,\n",
       "       180, 116, 233,  18, 140, 174, 227, 245, 125, 219, 146, 276, 147,\n",
       "       274, 190, 228, 291, 281, 238, 235, 253, 247, 222, 298, 170,  54,\n",
       "       255, 232, 179, 269, 294, 243,  62, 259, 257,  83, 239,  92,  15,\n",
       "        84,   2,  91,  20,  31,  56,  33,  45,  71,  63,  16, 283,  96,\n",
       "        77,  30,  11,  70,   4,  13,  50,  19,  59,  74,  64,  28,  23,\n",
       "        58,   8,  25,  17, 275,  35, 254,  78,  89,  66,  39,  32,  73,\n",
       "        88,   3,  79,  53,  80,  44,  86,  99,  60,  36,  61,  55,   5,\n",
       "        67,  68,  12,  69,  21,  75,  94,  95,  46, 249,   9,  10,  97,\n",
       "        52,  49,  24,   6,  82,  22,   0,  34,   7,  51,  81,  29,  42,\n",
       "        27,  65,  57, 216,  72,  26,  48,  40,  47,  43,  87,  37,  76,\n",
       "        90,  93,  85, 226,  14,  38, 211,   1,  41,  98, 217, 295, 246,\n",
       "       237], dtype=int64)"
      ]
     },
     "execution_count": 103,
     "metadata": {},
     "output_type": "execute_result"
    }
   ],
   "source": [
    "np.argsort(distances)"
   ]
  },
  {
   "cell_type": "code",
   "execution_count": 104,
   "metadata": {},
   "outputs": [
    {
     "data": {
      "text/plain": [
       "array([286, 271, 230, 266, 284], dtype=int64)"
      ]
     },
     "execution_count": 104,
     "metadata": {},
     "output_type": "execute_result"
    }
   ],
   "source": [
    "nearest_neighbors = np.argsort(distances)[0:k]\n",
    "nearest_neighbors"
   ]
  },
  {
   "cell_type": "code",
   "execution_count": 105,
   "metadata": {},
   "outputs": [
    {
     "data": {
      "text/plain": [
       "array([2, 2, 2, 2, 2])"
      ]
     },
     "execution_count": 105,
     "metadata": {},
     "output_type": "execute_result"
    }
   ],
   "source": [
    "Y_train[nearest_neighbors]"
   ]
  },
  {
   "cell_type": "code",
   "execution_count": 106,
   "metadata": {},
   "outputs": [
    {
     "data": {
      "text/plain": [
       "array([0, 0, 5], dtype=int64)"
      ]
     },
     "execution_count": 106,
     "metadata": {},
     "output_type": "execute_result"
    }
   ],
   "source": [
    "result = np.bincount(Y_train[nearest_neighbors])\n",
    "result"
   ]
  },
  {
   "cell_type": "code",
   "execution_count": 107,
   "metadata": {},
   "outputs": [
    {
     "name": "stdout",
     "output_type": "stream",
     "text": [
      "🍉\n"
     ]
    }
   ],
   "source": [
    "if np.argmax(result) == 0:\n",
    "    print('🍎')\n",
    "elif np.argmax(result) == 1:\n",
    "    print('🍌')\n",
    "else:\n",
    "    print('🍉')"
   ]
  }
 ],
 "metadata": {
  "kernelspec": {
   "display_name": "Python 3",
   "language": "python",
   "name": "python3"
  },
  "language_info": {
   "codemirror_mode": {
    "name": "ipython",
    "version": 3
   },
   "file_extension": ".py",
   "mimetype": "text/x-python",
   "name": "python",
   "nbconvert_exporter": "python",
   "pygments_lexer": "ipython3",
   "version": "3.10.11"
  }
 },
 "nbformat": 4,
 "nbformat_minor": 2
}
