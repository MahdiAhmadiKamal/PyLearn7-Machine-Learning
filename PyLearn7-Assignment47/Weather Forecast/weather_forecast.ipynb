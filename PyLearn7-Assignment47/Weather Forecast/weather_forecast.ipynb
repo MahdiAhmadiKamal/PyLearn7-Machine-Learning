{
 "cells": [
  {
   "cell_type": "code",
   "execution_count": null,
   "metadata": {},
   "outputs": [],
   "source": [
    "import numpy as np\n",
    "import pandas as pd\n",
    "import matplotlib.pyplot as plt\n",
    "from sklearn.model_selection import train_test_split\n",
    "from tqdm import tqdm\n",
    "from sklearn.metrics import median_absolute_error"
   ]
  },
  {
   "cell_type": "code",
   "execution_count": null,
   "metadata": {},
   "outputs": [],
   "source": [
    "data = pd.read_csv(\"weatherHistory_shortened.csv\")"
   ]
  },
  {
   "cell_type": "code",
   "execution_count": null,
   "metadata": {},
   "outputs": [],
   "source": [
    "data[\"date\"] = np.zeros(len(data))\n",
    "for i in range(len(data)):\n",
    "    data[\"date\"][i] = data[\"Formatted Date\"][i][0:10]\n",
    "\n",
    "\n",
    "data[\"time\"] = np.zeros(len(data))\n",
    "for i in range(len(data)):\n",
    "    data[\"time\"][i] = data[\"Formatted Date\"][i][11:13]\n",
    "    data[\"time\"]"
   ]
  },
  {
   "cell_type": "code",
   "execution_count": null,
   "metadata": {},
   "outputs": [],
   "source": [
    "import datetime\n",
    "data[\"nth_day\"] = np.zeros(len(data))\n",
    "for i in range(len(data)):\n",
    "    datetime.datetime.strptime(data[\"date\"][i] ,'%Y-%m-%d')\n",
    "    data[\"nth_day\"][i] = datetime.datetime.strptime(data[\"date\"][i],'%Y-%m-%d').timetuple().tm_yday\n",
    "    data[\"nth_day\"] = data[\"nth_day\"].to_numpy(int)\n",
    "\n",
    "data[\"nth_day\"]"
   ]
  },
  {
   "cell_type": "code",
   "execution_count": null,
   "metadata": {},
   "outputs": [],
   "source": [
    "data['Date_new'] = pd.to_datetime(data['Formatted Date'], yearfirst=True)\n",
    "data['Date_in_Days'] = data['Date_new'].map(lambda date:f'{30*(date.month-1) + date.day}') \n",
    "data['Date_in_Days'] = data['Date_in_Days'].to_numpy(dtype=int)\n",
    "data"
   ]
  },
  {
   "cell_type": "code",
   "execution_count": null,
   "metadata": {},
   "outputs": [],
   "source": [
    "data['date'] = pd.to_datetime(data['date'], yearfirst=True)\n",
    "data['date']"
   ]
  },
  {
   "cell_type": "code",
   "execution_count": null,
   "metadata": {},
   "outputs": [],
   "source": [
    "data = data.sort_values(by=['date'], ascending=True).reset_index()\n",
    "data"
   ]
  },
  {
   "cell_type": "code",
   "execution_count": null,
   "metadata": {},
   "outputs": [],
   "source": [
    "data = data.copy()\n",
    "data[\"Average temperature\"] = data[\"Temperature (C)\"]\n",
    "data.groupby(\"nth_day\")[\"Average temperature\"].mean().reset_index()"
   ]
  },
  {
   "cell_type": "code",
   "execution_count": null,
   "metadata": {},
   "outputs": [],
   "source": [
    "plt.figure(figsize=(12,6))\n",
    "\n",
    "plt.scatter(data['nth_day'].to_numpy(), data['Average temperature'].to_numpy(), marker='.')\n",
    "plt.title(\"Weather history \")\n",
    "plt.xlabel(\"Day\")\n",
    "plt.ylabel(\"Temperature (C)\")\n",
    "plt.show()"
   ]
  },
  {
   "cell_type": "code",
   "execution_count": null,
   "metadata": {},
   "outputs": [],
   "source": [
    "X = data[\"nth_day\"].copy().values\n",
    "Y = data[\"Average temperature\"].copy().values\n",
    "\n",
    "# Split the data into training and test sets\n",
    "X_train, X_test, Y_train, Y_test = train_test_split(X, Y, test_size=0.2)\n",
    "X_train = X_train.reshape(-1,1)\n",
    "X_test = X_test.reshape(-1,1) \n",
    "Y_train = Y_train.reshape(-1,1)\n",
    "Y_test = Y_test.reshape(-1,1)\n",
    "X_train.shape, X_test.shape, Y_train.shape, Y_test.shape"
   ]
  },
  {
   "cell_type": "code",
   "execution_count": null,
   "metadata": {},
   "outputs": [],
   "source": [
    "class Perceptron:\n",
    "    def __init__(self, learning_rate, input_length, activation_func):\n",
    "        self.learning_rate = learning_rate\n",
    "        self.weights = np.random.rand(input_length)\n",
    "        self.bias = np.random.rand(1)\n",
    "        self.activation_function = activation_func     \n",
    "\n",
    "    def activation(self, x, function):\n",
    "        if function == \"sigmoid\":\n",
    "            return 1 / (1 + np.exp(-x))\n",
    "        elif function == \"relu\":\n",
    "            return np.maximum(0, x)\n",
    "        elif function == \"tanh\":\n",
    "            return np.tanh(x)\n",
    "        elif function == \"linear\":\n",
    "            return x\n",
    "        else:\n",
    "            raise Exception(\"Unknown activation function\")\n",
    "\n",
    "    def fit(self, X_train, Y_train, X_test, Y_test, epochs):\n",
    "        Loss_Train = []         \n",
    "        Acc_Train = []          \n",
    "        Loss_Test = []          \n",
    "        Acc_Test = []           \n",
    "        for epoch in tqdm(range(epochs)):\n",
    "            for x, y in zip(X_train, Y_train):\n",
    "                # forwarding \n",
    "                y_pred = x @ self.weights + self.bias\n",
    "                y_pred = self.activation(y_pred , self.activation_function)     \n",
    "                # y_pred = y_pred * self.activation(y_pred, \"sigmoid\")\n",
    "\n",
    "                # back propagation\n",
    "                error = y - y_pred\n",
    "\n",
    "                # updating\n",
    "                self.weights += self.learning_rate * error * x\n",
    "                self.bias += self.learning_rate * error\n",
    "\n",
    "            train_loss ,train_acc = model.evaluate(X_train , Y_train)           \n",
    "            test_loss ,test_acc = model.evaluate(X_test , Y_test)               \n",
    "\n",
    "            Loss_Train.append(train_loss)                                       \n",
    "            Acc_Train.append(train_acc)                                         \n",
    "            Loss_Test.append(test_loss)                                         \n",
    "            Acc_Test.append(test_acc)                                           \n",
    "\n",
    "        return Loss_Train, Acc_Train, Loss_Test, Acc_Test                      \n",
    "\n",
    "    # def predict(self, X_test):\n",
    "    #     Y_pred = []\n",
    "    #     for x_test in X_test:\n",
    "    #         y_pred = x_test @ self.weights + self.bias\n",
    "    #         y_pred = self.activation(y_pred, \"relu\")\n",
    "    #         Y_pred.append(y_pred)\n",
    "    #     return np.array(Y_pred)\n",
    "    \n",
    "    def predict(self, X_test):\n",
    "        y_pred = X_test @ self.weights + self.bias\n",
    "        y_pred = self.activation(y_pred, \"relu\")\n",
    "\n",
    "        return np.array(y_pred)\n",
    "\n",
    "    def calculate_loss(self, X_test, Y_test, metric):\n",
    "        Y_pred = self.predict(X_test)\n",
    "        if metric == \"mse\":\n",
    "            return np.mean(np.square(Y_test - Y_pred))\n",
    "        elif metric == \"mae\":\n",
    "            return np.mean(np.abs(Y_test - Y_pred))\n",
    "        elif metric == \"rmse\":\n",
    "            return np.sqrt(np.mean(np.square(Y_test - Y_pred)))\n",
    "        else:\n",
    "            raise Exception(\"Unknown metric\")\n",
    "        \n",
    "    def calculate_accuracy(self, X_test, Y_test):\n",
    "        Y_pred = self.predict(X_test)\n",
    "        # Y_pred = Y_pred.reshape(-1)\n",
    "        # Y_pred = np.where(Y_pred > 0.5, 1, 0)\n",
    "        # accuracy = np.sum(Y_pred == Y_test) / len(Y_test)\n",
    "        accuracy = median_absolute_error(Y_pred , Y_test)\n",
    "        return accuracy\n",
    "\n",
    "    def evaluate(self, X_test, Y_test):\n",
    "        loss = self.calculate_loss(X_test, Y_test, \"rmse\")\n",
    "        accuracy = self.calculate_accuracy(X_test, Y_test)\n",
    "\n",
    "        return loss, accuracy\n",
    "    \n",
    "model = Perceptron(learning_rate=0.00001, input_length=X_train.shape[1], activation_func=\"relu\")\n",
    "Loss_Train, Acc_Train, Loss_Test, Acc_Test = model.fit(X_train, Y_train, X_test, Y_test, epochs=30)"
   ]
  },
  {
   "cell_type": "code",
   "execution_count": null,
   "metadata": {},
   "outputs": [],
   "source": [
    "model.evaluate(X_test, Y_test)"
   ]
  },
  {
   "cell_type": "code",
   "execution_count": null,
   "metadata": {},
   "outputs": [],
   "source": [
    "fig , (ax1 , ax2) = plt.subplots(1,2 , figsize=(12,5))\n",
    "\n",
    "\n",
    "ax1.plot(Loss_Train)\n",
    "ax1.plot(Loss_Test)\n",
    "ax1.set_xlabel(\"epoch\")\n",
    "ax1.set_ylabel(\"loss\")\n",
    "ax1.legend([\"train\" , \"test\"])\n",
    "ax1.title.set_text(f'Model loss (activation function: relu)')\n",
    "\n",
    "ax2.plot(Acc_Train)\n",
    "ax2.plot(Acc_Test)\n",
    "ax2.set_xlabel(\"epoch\")\n",
    "ax2.set_ylabel(\"accuracy\")\n",
    "ax2.legend([\"train\" , \"test\"])\n",
    "ax2.title.set_text('Model accuracy (activation function: relu)')\n",
    "\n",
    "plt.show()"
   ]
  },
  {
   "cell_type": "code",
   "execution_count": null,
   "metadata": {},
   "outputs": [],
   "source": [
    "model.predict(X_test[25])"
   ]
  }
 ],
 "metadata": {
  "kernelspec": {
   "display_name": "Python 3",
   "language": "python",
   "name": "python3"
  },
  "language_info": {
   "name": "python",
   "version": "3.10.11"
  }
 },
 "nbformat": 4,
 "nbformat_minor": 2
}
